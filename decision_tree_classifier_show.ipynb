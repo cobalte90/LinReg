{
 "cells": [
  {
   "cell_type": "code",
   "execution_count": 12,
   "metadata": {},
   "outputs": [
    {
     "name": "stderr",
     "output_type": "stream",
     "text": [
      "c:\\Users\\Степан\\Desktop\\ModelsNoSklearn\\src\\models\\tree.py:29: RuntimeWarning: invalid value encountered in divide\n",
      "  probabilities = [n_samples / n_total]\n"
     ]
    },
    {
     "name": "stdout",
     "output_type": "stream",
     "text": [
      "0.896 0 0.0 0 -0.0\n"
     ]
    }
   ],
   "source": [
    "# Base libraries\n",
    "import pandas as pd\n",
    "import numpy as np\n",
    "import seaborn as sns\n",
    "from matplotlib import pyplot as plt\n",
    "\n",
    "# My model, metrics and preprocessing methods\n",
    "from src.models.tree import *\n",
    "from src.metrics import *\n",
    "\n",
    "df = pd.read_csv('src/data/Bank_Personal_Loan_Modelling.csv')\n",
    "X, y = df.drop(['Personal Loan', 'ZIP Code', 'Unnamed: 0', 'ID'], axis=1), df['Personal Loan']\n",
    "from src.preprocessing import normalize\n",
    "X['Age'] = normalize.min_max(X['Age'])\n",
    "X['Experience'] = normalize.min_max(X['Experience'])\n",
    "X['Income'] = normalize.min_max(X['Income'])\n",
    "from src.preprocessing.one_hot import one_hot \n",
    "X = one_hot(X, ['CreditCard', 'Online', 'Securities Account', 'CD Account', 'Family'])\n",
    "from src.preprocessing.train_test_split import train_test_split\n",
    "X_train, y_train, X_test, y_test = train_test_split(X, y, (0.8, 0.2))\n",
    "\n",
    "model = DecisionTreeClassifier()\n",
    "model.fit(X_train, y_train)\n",
    "y_pred = model.predict(X_test)\n",
    "\n",
    "acc = my_accuracy_score(y_test, y_pred)\n",
    "pres = my_precision_score(y_test, y_pred)\n",
    "rec = my_recall_score(y_test, y_pred)\n",
    "f1 = my_f1_score(y_test, y_pred)\n",
    "auc = ROC_AUC(y_test, y_pred)\n",
    "print(acc, pres, rec, f1, auc)\n"
   ]
  }
 ],
 "metadata": {
  "kernelspec": {
   "display_name": "Python 3",
   "language": "python",
   "name": "python3"
  },
  "language_info": {
   "codemirror_mode": {
    "name": "ipython",
    "version": 3
   },
   "file_extension": ".py",
   "mimetype": "text/x-python",
   "name": "python",
   "nbconvert_exporter": "python",
   "pygments_lexer": "ipython3",
   "version": "3.12.4"
  }
 },
 "nbformat": 4,
 "nbformat_minor": 2
}
